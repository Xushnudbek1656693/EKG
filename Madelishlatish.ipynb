{
 "cells": [
  {
   "cell_type": "code",
   "execution_count": null,
   "id": "4d9a38a9",
   "metadata": {},
   "outputs": [
    {
     "name": "stderr",
     "output_type": "stream",
     "text": [
      "WARNING:absl:Compiled the loaded model, but the compiled metrics have yet to be built. `model.compile_metrics` will be empty until you train or evaluate the model.\n"
     ]
    },
    {
     "name": "stdout",
     "output_type": "stream",
     "text": [
      "\u001b[1m1/1\u001b[0m \u001b[32m━━━━━━━━━━━━━━━━━━━━\u001b[0m\u001b[37m\u001b[0m \u001b[1m0s\u001b[0m 266ms/step\n",
      "Aniqlangan kasallik: Atrial Fibrillation (ishonchlilik: 1.00)\n"
     ]
    }
   ],
   "source": [
    "import tensorflow as tf\n",
    "from tensorflow.keras.models import load_model\n",
    "import numpy as np\n",
    "from PIL import Image\n",
    "import os\n",
    "\n",
    "# Modelni yuklash\n",
    "model = load_model('model_vgg19.h5')  # kerakli model faylingiz nomi\n",
    "\n",
    "# Kasalliklar ro‘yxati\n",
    "class_names = ['Atrial Fibrillation', 'Atrial Flutter', 'Atrioventricular Block', 'Left Bundle Branch Block', 'Normal Sinus Rhythm', 'Right Bundle Branch Block']\n",
    "\n",
    "def predict_ecg_image(image_path):\n",
    "    if not os.path.exists(image_path):\n",
    "        return \"Rasm topilmadi. Iltimos, to‘g‘ri yo‘lni kiriting.\"\n",
    "\n",
    "    # Rasmni ochish va tayyorlash\n",
    "    img = Image.open(image_path).convert('RGB')\n",
    "    img = img.resize((224, 224))  # modelga qarab bu o'lchamni moslang\n",
    "    img_array = np.array(img) / 255.0  # Normalize\n",
    "    img_array = np.expand_dims(img_array, axis=0)\n",
    "\n",
    "    # Model yordamida bashorat qilish\n",
    "    prediction = model.predict(img_array)\n",
    "    predicted_index = np.argmax(prediction)\n",
    "    confidence = prediction[0][predicted_index]\n",
    "\n",
    "    # Agar ishonchlilik darajasi past bo‘lsa, kasallik yo‘q deb hisoblash mumkin\n",
    "    if confidence < 0.5:\n",
    "        return \"Bizda bu kasallik yo'q\"\n",
    "\n",
    "    return f\"Aniqlangan kasallik: {class_names[predicted_index]} (ishonchlilik: {confidence:.2f})\"\n",
    "\n",
    "# Misol uchun foydalanish:\n",
    "image_path = \"m3.jpg\"  # bu yerga siz sinovdan o'tkazmoqchi bo‘lgan ECG rasm yo‘lini kiriting\n",
    "natija = predict_ecg_image(image_path)\n",
    "print(natija)\n"
   ]
  }
 ],
 "metadata": {
  "kernelspec": {
   "display_name": "venv-3.10",
   "language": "python",
   "name": "python3"
  },
  "language_info": {
   "codemirror_mode": {
    "name": "ipython",
    "version": 3
   },
   "file_extension": ".py",
   "mimetype": "text/x-python",
   "name": "python",
   "nbconvert_exporter": "python",
   "pygments_lexer": "ipython3",
   "version": "3.10.0"
  }
 },
 "nbformat": 4,
 "nbformat_minor": 5
}
